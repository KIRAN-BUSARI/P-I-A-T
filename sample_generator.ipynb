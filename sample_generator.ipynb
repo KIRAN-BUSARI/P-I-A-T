{
 "cells": [
  {
   "cell_type": "code",
   "execution_count": 6,
   "metadata": {},
   "outputs": [],
   "source": [
    "import cv2\n",
    "import time"
   ]
  },
  {
   "cell_type": "code",
   "execution_count": 7,
   "metadata": {},
   "outputs": [
    {
     "name": "stdout",
     "output_type": "stream",
     "text": [
      "Taking samples look at the camera...\n",
      "255\n",
      "255\n",
      "255\n",
      "255\n",
      "255\n",
      "255\n",
      "255\n",
      "255\n",
      "255\n",
      "255\n"
     ]
    }
   ],
   "source": [
    "cam = cv2.VideoCapture(1)\n",
    "\n",
    "cam.set(3, 640)\n",
    "cam.set(4, 840)\n",
    "\n",
    "detector = cv2.CascadeClassifier('./haarcascade_frontalface_default.xml')\n",
    "\n",
    "name = input('Enter your name: ')\n",
    "\n",
    "print(\"Taking samples look at the camera...\")\n",
    "count = 0\n",
    "\n",
    "time.sleep(3)\n",
    "\n",
    "while True:\n",
    "  ret, img = cam.read()\n",
    "  gray = cv2.cvtColor(img, cv2.COLOR_BGR2GRAY)\n",
    "  faces = detector.detectMultiScale(gray, 1.3, 5)\n",
    "\n",
    "  for (x, y, w, h) in faces:\n",
    "    cv2.rectangle(img, (x, y), (x+w, y+h), (255, 0, 0), 2)\n",
    "    count += 1\n",
    "    cv2.imwrite(\"samples/User.\" + str(name) + '.' +\n",
    "          str(count) + \".jpg\", gray[y:y+h, x:x+w])\n",
    "    cv2.imshow('image', img)\n",
    "\n",
    "  k = cv2.waitKey(100) & 0xff\n",
    "  print(k)\n",
    "  if k == 27:\n",
    "    break\n",
    "  elif count >= 10:\n",
    "    break\n",
    "\n",
    "cam.release()\n",
    "cv2.destroyAllWindows()"
   ]
  },
  {
   "cell_type": "code",
   "execution_count": null,
   "metadata": {},
   "outputs": [],
   "source": []
  },
  {
   "cell_type": "code",
   "execution_count": null,
   "metadata": {},
   "outputs": [],
   "source": []
  }
 ],
 "metadata": {
  "kernelspec": {
   "display_name": ".venv",
   "language": "python",
   "name": "python3"
  },
  "language_info": {
   "codemirror_mode": {
    "name": "ipython",
    "version": 3
   },
   "file_extension": ".py",
   "mimetype": "text/x-python",
   "name": "python",
   "nbconvert_exporter": "python",
   "pygments_lexer": "ipython3",
   "version": "3.9.6"
  }
 },
 "nbformat": 4,
 "nbformat_minor": 2
}
