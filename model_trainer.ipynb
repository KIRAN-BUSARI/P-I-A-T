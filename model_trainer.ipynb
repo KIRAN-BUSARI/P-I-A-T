{
 "cells": [
  {
   "cell_type": "code",
   "execution_count": 32,
   "metadata": {},
   "outputs": [],
   "source": [
    "import cv2\n",
    "import numpy as np\n",
    "from PIL import Image\n",
    "import os\n",
    "import time\n"
   ]
  },
  {
   "cell_type": "code",
   "execution_count": 33,
   "metadata": {},
   "outputs": [],
   "source": [
    "path = 'samples'\n",
    "\n",
    "recognizer = cv2.face.LBPHFaceRecognizer_create()\n",
    "# recognizer = cv2.face.LBPHFaceRecognizer_create()\n",
    "\n",
    "detector = cv2.CascadeClassifier(\"haarcascade_frontalface_default.xml\")\n"
   ]
  },
  {
   "cell_type": "code",
   "execution_count": 34,
   "metadata": {},
   "outputs": [],
   "source": [
    "\n",
    "# def Images_And_Labels(path):\n",
    "#     imagePaths = [os.path.join(path, f) for f in os.listdir(path)]\n",
    "#     faceSamples = []\n",
    "#     ids = []\n",
    "\n",
    "#     for imagePath in imagePaths:\n",
    "#         gray_img = Image.open(imagePath).convert('L')\n",
    "#         img_arr = np.array(gray_img, 'uint8')\n",
    "\n",
    "#         id = int(os.path.split(imagePath)[-1].split(\".\")[1])\n",
    "#         faces = detector.detectMultiScale(img_arr)\n",
    "\n",
    "#         for (x, y, w, h) in faces:\n",
    "#             faceSamples.append(img_arr[y:y+h, x:x+w])\n",
    "#             ids.append(id)\n",
    "\n",
    "#     return faceSamples, ids\n",
    "\n",
    "\n",
    "# print(\"Training Faces , It will take few seconds. Wait...\")\n",
    "\n",
    "# faces, ids = Images_And_Labels(path)\n",
    "# recognizer.train(faces, np.array(ids))\n",
    "# recognizer.write('trainer/trainer.yml')\n",
    "# time.sleep(3)\n",
    "# print(\"Model trained, Now we can recognize your face\")\n"
   ]
  },
  {
   "cell_type": "code",
   "execution_count": 35,
   "metadata": {},
   "outputs": [
    {
     "name": "stdout",
     "output_type": "stream",
     "text": [
      "Training Faces, It will take a few seconds. Wait...\n",
      "Model trained, Now we can recognize your face\n"
     ]
    }
   ],
   "source": [
    "\n",
    "\n",
    "def Images_And_Labels(path):\n",
    "    imagePaths = [os.path.join(path, f) for f in os.listdir(path)]\n",
    "    faceSamples = []\n",
    "    names = []\n",
    "\n",
    "    for imagePath in imagePaths:\n",
    "        gray_img = Image.open(imagePath).convert('L')\n",
    "        img_arr = np.array(gray_img, 'uint8')\n",
    "        \n",
    "        name = os.path.split(imagePath)[-1].split(\".\")[1]\n",
    "        faces = detector.detectMultiScale(img_arr)\n",
    "        \n",
    "        for (x, y, w, h) in faces:\n",
    "            faceSamples.append(img_arr[y:y+h, x:x+w])\n",
    "            names.append(name)\n",
    "\n",
    "    # Create a mapping from names to integer labels\n",
    "    unique_names = list(set(names))\n",
    "    name_to_id = {name: idx for idx, name in enumerate(unique_names)}\n",
    "    labels = [name_to_id[name] for name in names]\n",
    "\n",
    "    return faceSamples, labels, name_to_id\n",
    "\n",
    "print(\"Training Faces, It will take a few seconds. Wait...\")\n",
    "\n",
    "faces, labels, name_to_id = Images_And_Labels(path)\n",
    "recognizer.train(faces, np.array(labels))\n",
    "recognizer.write('trainer/trainer.yml')\n",
    "print(\"Model trained, Now we can recognize your face\")\n"
   ]
  }
 ],
 "metadata": {
  "kernelspec": {
   "display_name": ".venv",
   "language": "python",
   "name": "python3"
  },
  "language_info": {
   "codemirror_mode": {
    "name": "ipython",
    "version": 3
   },
   "file_extension": ".py",
   "mimetype": "text/x-python",
   "name": "python",
   "nbconvert_exporter": "python",
   "pygments_lexer": "ipython3",
   "version": "3.9.6"
  }
 },
 "nbformat": 4,
 "nbformat_minor": 2
}
