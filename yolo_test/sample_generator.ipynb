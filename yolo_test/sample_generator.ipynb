{
 "cells": [
  {
   "cell_type": "code",
   "execution_count": 7,
   "metadata": {},
   "outputs": [
    {
     "name": "stderr",
     "output_type": "stream",
     "text": [
      "[ WARN:0@258.288] global cap_gstreamer.cpp:1173 isPipelinePlaying OpenCV | GStreamer warning: GStreamer: pipeline have not been created\n"
     ]
    },
    {
     "name": "stdout",
     "output_type": "stream",
     "text": [
      "Taking Samples, please look at the camera...!\n",
      "Samples taken, now closing the program...\n"
     ]
    }
   ],
   "source": [
    "\n",
    "import cv2\n",
    "import time\n",
    "import os\n",
    "\n",
    "cam = cv2.VideoCapture(1)\n",
    "cam.set(3, 640)\n",
    "cam.set(4, 840)\n",
    "\n",
    "detector = cv2.CascadeClassifier('haarcascade_frontalface_default.xml')\n",
    "\n",
    "face_name = input(\"Enter your name here: \")\n",
    "\n",
    "# Create a directory for the user if it doesn't exist\n",
    "if not os.path.exists(f\"data/{face_name}\"):\n",
    "    os.makedirs(f\"data/{face_name}\")\n",
    "\n",
    "print(\"Taking Samples, please look at the camera...!\")\n",
    "count = 0\n",
    "\n",
    "time.sleep(3)\n",
    "\n",
    "while True:\n",
    "    ret, img = cam.read()\n",
    "    converted_img = cv2.cvtColor(img, cv2.COLOR_BGR2GRAY)\n",
    "    faces = detector.detectMultiScale(converted_img, 1.3, 5)\n",
    "\n",
    "    for (x, y, w, h) in faces:\n",
    "        cv2.rectangle(img, (x, y), (x+w, y+h), (255, 0, 0), 2)\n",
    "        count += 1\n",
    "\n",
    "        cv2.imwrite(f\"data/{face_name}/face.{face_name}.{count}.jpg\", converted_img[y:y+h, x:x+w])\n",
    "\n",
    "    cv2.imshow('image', img)\n",
    "\n",
    "    k = cv2.waitKey(100) & 0xff\n",
    "    if k == 27:  # Press 'ESC' to stop\n",
    "        break\n",
    "    elif count >= 30:  # Take 30 face samples and stop\n",
    "        break\n",
    "\n",
    "print(\"Samples taken, now closing the program...\")\n",
    "cam.release()\n",
    "cv2.destroyAllWindows()"
   ]
  }
 ],
 "metadata": {
  "kernelspec": {
   "display_name": "yolo",
   "language": "python",
   "name": "python3"
  },
  "language_info": {
   "codemirror_mode": {
    "name": "ipython",
    "version": 3
   },
   "file_extension": ".py",
   "mimetype": "text/x-python",
   "name": "python",
   "nbconvert_exporter": "python",
   "pygments_lexer": "ipython3",
   "version": "3.8.18"
  }
 },
 "nbformat": 4,
 "nbformat_minor": 2
}
