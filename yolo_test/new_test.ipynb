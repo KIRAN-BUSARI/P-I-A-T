{
 "cells": [
  {
   "cell_type": "code",
   "execution_count": null,
   "metadata": {},
   "outputs": [],
   "source": [
    "import cv2\n",
    "import os\n",
    "\n",
    "def collect_samples(name, num_samples=50, save_dir='dataset'):\n",
    "    cap = cv2.VideoCapture(1)\n",
    "    count = 0\n",
    "    os.makedirs(os.path.join(save_dir, name), exist_ok=True)\n",
    "    \n",
    "    while count < num_samples:\n",
    "        ret, frame = cap.read()\n",
    "        if not ret:\n",
    "            break\n",
    "        \n",
    "        cv2.imshow('Collecting Samples', frame)\n",
    "        cv2.imwrite(os.path.join(save_dir, name, f'{name}_{count}.jpg'), frame)\n",
    "        count += 1\n",
    "        \n",
    "        if cv2.waitKey(1) & 0xFF == ord('q'):\n",
    "            break\n",
    "    \n",
    "    cap.release()\n",
    "    cv2.destroyAllWindows()\n",
    "\n",
    "name = input(\"Enter the name of the person: \")\n",
    "collect_samples(name)"
   ]
  }
 ],
 "metadata": {
  "kernelspec": {
   "display_name": "yolo",
   "language": "python",
   "name": "python3"
  },
  "language_info": {
   "codemirror_mode": {
    "name": "ipython",
    "version": 3
   },
   "file_extension": ".py",
   "mimetype": "text/x-python",
   "name": "python",
   "nbconvert_exporter": "python",
   "pygments_lexer": "ipython3",
   "version": "3.8.18"
  }
 },
 "nbformat": 4,
 "nbformat_minor": 2
}
